{
  "nbformat": 4,
  "nbformat_minor": 0,
  "metadata": {
    "colab": {
      "name": "SM_sentiment_analysis.ipynb",
      "provenance": [],
      "collapsed_sections": [
        "tXzHjX4JwBr6",
        "AmqHNqpCwLw7",
        "_k75CE8NxKaY",
        "hZrFtRTiyBR3"
      ],
      "toc_visible": true,
      "authorship_tag": "ABX9TyP1OnZ9oUTrMBrzA85siMhm",
      "include_colab_link": true
    },
    "kernelspec": {
      "name": "python3",
      "display_name": "Python 3"
    }
  },
  "cells": [
    {
      "cell_type": "markdown",
      "metadata": {
        "id": "view-in-github",
        "colab_type": "text"
      },
      "source": [
        "<a href=\"https://colab.research.google.com/github/SumitraMukherjee/analytics/blob/master/SM_sentiment_analysis.ipynb\" target=\"_parent\"><img src=\"https://colab.research.google.com/assets/colab-badge.svg\" alt=\"Open In Colab\"/></a>"
      ]
    },
    {
      "cell_type": "markdown",
      "metadata": {
        "id": "SY765wh71s3J"
      },
      "source": [
        "# Sentiment Polarity Detection\n",
        "- We shall train a model on labeled *IMDB* movie reviews (https://keras.io/api/datasets/imdb/) and use the model to predict the polarity (*negative* / *positive*) of comments we provide. \n",
        "- For vectorization of words, we use *TfidfVectorizer* from *ScikitLearn*  (https://scikit-learn.org/stable/modules/generated/sklearn.feature_extraction.text.TfidfVectorizer.html)\n",
        "- For classification of sentiments, we use *RidgeClassifier* from *ScikitLearn* (https://scikit-learn.org/stable/modules/generated/sklearn.linear_model.RidgeClassifier.html)\n"
      ]
    },
    {
      "cell_type": "markdown",
      "metadata": {
        "id": "tXzHjX4JwBr6"
      },
      "source": [
        "## Import libraries"
      ]
    },
    {
      "cell_type": "code",
      "metadata": {
        "id": "lrSSSKHmTSdR"
      },
      "source": [
        "from keras.datasets import imdb # to import dataset\n",
        "import numpy as np # for computation\n",
        "import pandas as pd # for data handling\n",
        "from time import time # for run times\n",
        "from sklearn.linear_model import RidgeClassifier # for classification\n",
        "from sklearn.feature_extraction.text import TfidfVectorizer # to vectorize text\n",
        "from sklearn.pipeline import Pipeline # to combine vectorizer and classifier\n",
        "from sklearn.metrics import accuracy_score # metric for model evaluation"
      ],
      "execution_count": 1,
      "outputs": []
    },
    {
      "cell_type": "markdown",
      "metadata": {
        "id": "AmqHNqpCwLw7"
      },
      "source": [
        "## Read data"
      ]
    },
    {
      "cell_type": "code",
      "metadata": {
        "id": "q3l4WQ03UKVz",
        "colab": {
          "base_uri": "https://localhost:8080/",
          "height": 380
        },
        "outputId": "9ed17d98-30b8-4095-9e63-b23b37678acc"
      },
      "source": [
        "(train_data, train_labels), (test_data, test_labels) = imdb.load_data(num_words=10000)\n",
        "print(\"%d labeled comments for training model\" %len(train_data))\n",
        "print(\"%d labeled comments for testing model\" %len(test_data))\n",
        "\n",
        "word_index = imdb.get_word_index()\n",
        "reverse_word_index = dict([(value, key) for (key, value) in word_index.items()])\n",
        "\n",
        "train = pd.DataFrame([' '.join([reverse_word_index.get(i - 3, '?') for i in s]) for s in train_data], columns=['comment'])\n",
        "train['label'] = train_labels\n",
        "\n",
        "test = pd.DataFrame([' '.join([reverse_word_index.get(i - 3, '?') for i in s]) for s in test_data], columns=['comment'])\n",
        "test['label'] = test_labels\n",
        "\n",
        "print(\"\\nFirst 5 labeled comments for training (1: Positive, 0:Negative)\")\n",
        "pd.set_option('display.max_colwidth', 160)\n",
        "train.head()"
      ],
      "execution_count": 2,
      "outputs": [
        {
          "output_type": "stream",
          "name": "stdout",
          "text": [
            "Downloading data from https://storage.googleapis.com/tensorflow/tf-keras-datasets/imdb.npz\n",
            "17465344/17464789 [==============================] - 0s 0us/step\n",
            "17473536/17464789 [==============================] - 0s 0us/step\n",
            "25000 labeled comments for training model\n",
            "25000 labeled comments for testing model\n",
            "Downloading data from https://storage.googleapis.com/tensorflow/tf-keras-datasets/imdb_word_index.json\n",
            "1646592/1641221 [==============================] - 0s 0us/step\n",
            "1654784/1641221 [==============================] - 0s 0us/step\n",
            "\n",
            "First 5 labeled comments for training (1: Positive, 0:Negative)\n"
          ]
        },
        {
          "output_type": "execute_result",
          "data": {
            "text/html": [
              "\n",
              "  <div id=\"df-a9e98715-61c2-4291-acb2-10b028033c34\">\n",
              "    <div class=\"colab-df-container\">\n",
              "      <div>\n",
              "<style scoped>\n",
              "    .dataframe tbody tr th:only-of-type {\n",
              "        vertical-align: middle;\n",
              "    }\n",
              "\n",
              "    .dataframe tbody tr th {\n",
              "        vertical-align: top;\n",
              "    }\n",
              "\n",
              "    .dataframe thead th {\n",
              "        text-align: right;\n",
              "    }\n",
              "</style>\n",
              "<table border=\"1\" class=\"dataframe\">\n",
              "  <thead>\n",
              "    <tr style=\"text-align: right;\">\n",
              "      <th></th>\n",
              "      <th>comment</th>\n",
              "      <th>label</th>\n",
              "    </tr>\n",
              "  </thead>\n",
              "  <tbody>\n",
              "    <tr>\n",
              "      <th>0</th>\n",
              "      <td>? this film was just brilliant casting location scenery story direction everyone's really suited the part they played and you could just imagine being there...</td>\n",
              "      <td>1</td>\n",
              "    </tr>\n",
              "    <tr>\n",
              "      <th>1</th>\n",
              "      <td>? big hair big boobs bad music and a giant safety pin these are the words to best describe this terrible movie i love cheesy horror movies and i've seen hun...</td>\n",
              "      <td>0</td>\n",
              "    </tr>\n",
              "    <tr>\n",
              "      <th>2</th>\n",
              "      <td>? this has to be one of the worst films of the 1990s when my friends i were watching this film being the target audience it was aimed at we just sat watched...</td>\n",
              "      <td>0</td>\n",
              "    </tr>\n",
              "    <tr>\n",
              "      <th>3</th>\n",
              "      <td>? the ? ? at storytelling the traditional sort many years after the event i can still see in my ? eye an elderly lady my friend's mother retelling the battl...</td>\n",
              "      <td>1</td>\n",
              "    </tr>\n",
              "    <tr>\n",
              "      <th>4</th>\n",
              "      <td>? worst mistake of my life br br i picked this movie up at target for 5 because i figured hey it's sandler i can get some cheap laughs i was wrong completel...</td>\n",
              "      <td>0</td>\n",
              "    </tr>\n",
              "  </tbody>\n",
              "</table>\n",
              "</div>\n",
              "      <button class=\"colab-df-convert\" onclick=\"convertToInteractive('df-a9e98715-61c2-4291-acb2-10b028033c34')\"\n",
              "              title=\"Convert this dataframe to an interactive table.\"\n",
              "              style=\"display:none;\">\n",
              "        \n",
              "  <svg xmlns=\"http://www.w3.org/2000/svg\" height=\"24px\"viewBox=\"0 0 24 24\"\n",
              "       width=\"24px\">\n",
              "    <path d=\"M0 0h24v24H0V0z\" fill=\"none\"/>\n",
              "    <path d=\"M18.56 5.44l.94 2.06.94-2.06 2.06-.94-2.06-.94-.94-2.06-.94 2.06-2.06.94zm-11 1L8.5 8.5l.94-2.06 2.06-.94-2.06-.94L8.5 2.5l-.94 2.06-2.06.94zm10 10l.94 2.06.94-2.06 2.06-.94-2.06-.94-.94-2.06-.94 2.06-2.06.94z\"/><path d=\"M17.41 7.96l-1.37-1.37c-.4-.4-.92-.59-1.43-.59-.52 0-1.04.2-1.43.59L10.3 9.45l-7.72 7.72c-.78.78-.78 2.05 0 2.83L4 21.41c.39.39.9.59 1.41.59.51 0 1.02-.2 1.41-.59l7.78-7.78 2.81-2.81c.8-.78.8-2.07 0-2.86zM5.41 20L4 18.59l7.72-7.72 1.47 1.35L5.41 20z\"/>\n",
              "  </svg>\n",
              "      </button>\n",
              "      \n",
              "  <style>\n",
              "    .colab-df-container {\n",
              "      display:flex;\n",
              "      flex-wrap:wrap;\n",
              "      gap: 12px;\n",
              "    }\n",
              "\n",
              "    .colab-df-convert {\n",
              "      background-color: #E8F0FE;\n",
              "      border: none;\n",
              "      border-radius: 50%;\n",
              "      cursor: pointer;\n",
              "      display: none;\n",
              "      fill: #1967D2;\n",
              "      height: 32px;\n",
              "      padding: 0 0 0 0;\n",
              "      width: 32px;\n",
              "    }\n",
              "\n",
              "    .colab-df-convert:hover {\n",
              "      background-color: #E2EBFA;\n",
              "      box-shadow: 0px 1px 2px rgba(60, 64, 67, 0.3), 0px 1px 3px 1px rgba(60, 64, 67, 0.15);\n",
              "      fill: #174EA6;\n",
              "    }\n",
              "\n",
              "    [theme=dark] .colab-df-convert {\n",
              "      background-color: #3B4455;\n",
              "      fill: #D2E3FC;\n",
              "    }\n",
              "\n",
              "    [theme=dark] .colab-df-convert:hover {\n",
              "      background-color: #434B5C;\n",
              "      box-shadow: 0px 1px 3px 1px rgba(0, 0, 0, 0.15);\n",
              "      filter: drop-shadow(0px 1px 2px rgba(0, 0, 0, 0.3));\n",
              "      fill: #FFFFFF;\n",
              "    }\n",
              "  </style>\n",
              "\n",
              "      <script>\n",
              "        const buttonEl =\n",
              "          document.querySelector('#df-a9e98715-61c2-4291-acb2-10b028033c34 button.colab-df-convert');\n",
              "        buttonEl.style.display =\n",
              "          google.colab.kernel.accessAllowed ? 'block' : 'none';\n",
              "\n",
              "        async function convertToInteractive(key) {\n",
              "          const element = document.querySelector('#df-a9e98715-61c2-4291-acb2-10b028033c34');\n",
              "          const dataTable =\n",
              "            await google.colab.kernel.invokeFunction('convertToInteractive',\n",
              "                                                     [key], {});\n",
              "          if (!dataTable) return;\n",
              "\n",
              "          const docLinkHtml = 'Like what you see? Visit the ' +\n",
              "            '<a target=\"_blank\" href=https://colab.research.google.com/notebooks/data_table.ipynb>data table notebook</a>'\n",
              "            + ' to learn more about interactive tables.';\n",
              "          element.innerHTML = '';\n",
              "          dataTable['output_type'] = 'display_data';\n",
              "          await google.colab.output.renderOutput(dataTable, element);\n",
              "          const docLink = document.createElement('div');\n",
              "          docLink.innerHTML = docLinkHtml;\n",
              "          element.appendChild(docLink);\n",
              "        }\n",
              "      </script>\n",
              "    </div>\n",
              "  </div>\n",
              "  "
            ],
            "text/plain": [
              "                                                                                                                                                           comment  label\n",
              "0  ? this film was just brilliant casting location scenery story direction everyone's really suited the part they played and you could just imagine being there...      1\n",
              "1  ? big hair big boobs bad music and a giant safety pin these are the words to best describe this terrible movie i love cheesy horror movies and i've seen hun...      0\n",
              "2  ? this has to be one of the worst films of the 1990s when my friends i were watching this film being the target audience it was aimed at we just sat watched...      0\n",
              "3  ? the ? ? at storytelling the traditional sort many years after the event i can still see in my ? eye an elderly lady my friend's mother retelling the battl...      1\n",
              "4  ? worst mistake of my life br br i picked this movie up at target for 5 because i figured hey it's sandler i can get some cheap laughs i was wrong completel...      0"
            ]
          },
          "metadata": {},
          "execution_count": 2
        }
      ]
    },
    {
      "cell_type": "markdown",
      "metadata": {
        "id": "_k75CE8NxKaY"
      },
      "source": [
        "## Train and validate model"
      ]
    },
    {
      "cell_type": "code",
      "metadata": {
        "id": "HzDzcZ2GsJMP",
        "colab": {
          "base_uri": "https://localhost:8080/"
        },
        "outputId": "6c5f815e-8429-4039-a477-231a2ca1493c"
      },
      "source": [
        "clf = RidgeClassifier(tol=1e-2, solver=\"sag\", max_iter=1000) # classifier \n",
        "vec = TfidfVectorizer(ngram_range=(1,2), sublinear_tf=True, max_df = 0.5) # vectorizer\n",
        "model = Pipeline([('v', vec), ('c', clf)])\n",
        "print(\"Training classifier ... this may take over 30 seconds\")\n",
        "st = time() # start time\n",
        "model.fit(train.comment.values, train.label.values) # train model\n",
        "y_pred = model.predict(test.comment.values) # predict polarity for test examples\n",
        "acc = accuracy_score(y_pred, test.label.values) # accuracy\n",
        "t = time() - st # time taken for training and prediction\n",
        "print(f'Accuracy on validation examples = {acc:.3f}, Time = {t:.3f}')"
      ],
      "execution_count": 3,
      "outputs": [
        {
          "output_type": "stream",
          "name": "stdout",
          "text": [
            "Training classifier ... this may take over 30 seconds\n",
            "Accuracy on validation examples = 0.906, Time = 33.808\n"
          ]
        }
      ]
    },
    {
      "cell_type": "markdown",
      "metadata": {
        "id": "hZrFtRTiyBR3"
      },
      "source": [
        "## Predict polarity of new comments"
      ]
    },
    {
      "cell_type": "code",
      "metadata": {
        "id": "1wfBYYEwyO8S",
        "colab": {
          "base_uri": "https://localhost:8080/"
        },
        "outputId": "f23ecccb-d831-46f4-f05e-79daf6eec559"
      },
      "source": [
        "s = input(\"Type in a comment: \\n\").lower()\n",
        "polarity = model.predict([s])[0]\n",
        "confidence = model.decision_function([s])[0]\n",
        "print('Comment expresses ', ['Negative', 'Positive'][polarity], 'sentiment.')\n",
        "print(f'Strength of sentiment = {confidence:.3f}')\n"
      ],
      "execution_count": 4,
      "outputs": [
        {
          "output_type": "stream",
          "name": "stdout",
          "text": [
            "Type in a comment: \n",
            "this is bad!\n",
            "Comment expresses  Negative sentiment.\n",
            "Strength of sentiment = -1.369\n"
          ]
        }
      ]
    }
  ]
}