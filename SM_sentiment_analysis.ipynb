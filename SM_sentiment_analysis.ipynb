{
  "nbformat": 4,
  "nbformat_minor": 0,
  "metadata": {
    "colab": {
      "name": "SM_sentiment_analysis.ipynb",
      "provenance": [],
      "collapsed_sections": [
        "tXzHjX4JwBr6",
        "AmqHNqpCwLw7",
        "_k75CE8NxKaY",
        "hZrFtRTiyBR3"
      ],
      "toc_visible": true,
      "authorship_tag": "ABX9TyP1OnZ9oUTrMBrzA85siMhm",
      "include_colab_link": true
    },
    "kernelspec": {
      "name": "python3",
      "display_name": "Python 3"
    }
  },
  "cells": [
    {
      "cell_type": "markdown",
      "metadata": {
        "id": "view-in-github",
        "colab_type": "text"
      },
      "source": [
        "<a href=\"https://colab.research.google.com/github/SumitraMukherjee/analytics/blob/master/SM_sentiment_analysis.ipynb\" target=\"_parent\"><img src=\"https://colab.research.google.com/assets/colab-badge.svg\" alt=\"Open In Colab\"/></a>"
      ]
    },
    {
      "cell_type": "markdown",
      "metadata": {
        "id": "SY765wh71s3J",
        "colab_type": "text"
      },
      "source": [
        "# Sentiment Polarity Detection\n",
        "- We shall train a model on labeled *IMDB* movie reviews (https://keras.io/api/datasets/imdb/) and use the model to predict the polarity (*negative* / *positive*) of comments we provide. \n",
        "- For vectorization of words, we use *TfidfVectorizer* from *ScikitLearn*  (https://scikit-learn.org/stable/modules/generated/sklearn.feature_extraction.text.TfidfVectorizer.html)\n",
        "- For classification of sentiments, we use *RidgeClassifier* from *ScikitLearn* (https://scikit-learn.org/stable/modules/generated/sklearn.linear_model.RidgeClassifier.html)\n"
      ]
    },
    {
      "cell_type": "markdown",
      "metadata": {
        "id": "tXzHjX4JwBr6",
        "colab_type": "text"
      },
      "source": [
        "## Import libraries"
      ]
    },
    {
      "cell_type": "code",
      "metadata": {
        "id": "lrSSSKHmTSdR",
        "colab_type": "code",
        "colab": {
          "base_uri": "https://localhost:8080/",
          "height": 35
        },
        "outputId": "ee8fd3bb-3520-4c91-8cc1-cee61203a8df"
      },
      "source": [
        "from keras.datasets import imdb # to import dataset\n",
        "import numpy as np # for computation\n",
        "import pandas as pd # for data handling\n",
        "from time import time # for run times\n",
        "from sklearn.linear_model import RidgeClassifier # for classification\n",
        "from sklearn.feature_extraction.text import TfidfVectorizer # to vectorize text\n",
        "from sklearn.pipeline import Pipeline # to combine vectorizer and classifier\n",
        "from sklearn.metrics import accuracy_score # metric for model evaluation"
      ],
      "execution_count": 1,
      "outputs": [
        {
          "output_type": "stream",
          "text": [
            "Using TensorFlow backend.\n"
          ],
          "name": "stderr"
        }
      ]
    },
    {
      "cell_type": "markdown",
      "metadata": {
        "id": "AmqHNqpCwLw7",
        "colab_type": "text"
      },
      "source": [
        "## Read data"
      ]
    },
    {
      "cell_type": "code",
      "metadata": {
        "id": "q3l4WQ03UKVz",
        "colab_type": "code",
        "colab": {
          "base_uri": "https://localhost:8080/",
          "height": 271
        },
        "outputId": "9230280b-0f5d-4f87-c709-464940e15e8c"
      },
      "source": [
        "(train_data, train_labels), (test_data, test_labels) = imdb.load_data(num_words=10000)\n",
        "print(\"%d labeled comments for training model\" %len(train_data))\n",
        "print(\"%d labeled comments for testing model\" %len(test_data))\n",
        "\n",
        "word_index = imdb.get_word_index()\n",
        "reverse_word_index = dict([(value, key) for (key, value) in word_index.items()])\n",
        "\n",
        "train = pd.DataFrame([' '.join([reverse_word_index.get(i - 3, '?') for i in s]) for s in train_data], columns=['comment'])\n",
        "train['label'] = train_labels\n",
        "\n",
        "test = pd.DataFrame([' '.join([reverse_word_index.get(i - 3, '?') for i in s]) for s in test_data], columns=['comment'])\n",
        "test['label'] = test_labels\n",
        "\n",
        "print(\"\\nFirst 5 labeled comments for training (1: Positive, 0:Negative)\")\n",
        "pd.set_option('display.max_colwidth', 160)\n",
        "train.head()"
      ],
      "execution_count": 2,
      "outputs": [
        {
          "output_type": "stream",
          "text": [
            "25000 labeled comments for training model\n",
            "25000 labeled comments for testing model\n",
            "\n",
            "First 5 labeled comments for training (1: Positive, 0:Negative)\n"
          ],
          "name": "stdout"
        },
        {
          "output_type": "execute_result",
          "data": {
            "text/html": [
              "<div>\n",
              "<style scoped>\n",
              "    .dataframe tbody tr th:only-of-type {\n",
              "        vertical-align: middle;\n",
              "    }\n",
              "\n",
              "    .dataframe tbody tr th {\n",
              "        vertical-align: top;\n",
              "    }\n",
              "\n",
              "    .dataframe thead th {\n",
              "        text-align: right;\n",
              "    }\n",
              "</style>\n",
              "<table border=\"1\" class=\"dataframe\">\n",
              "  <thead>\n",
              "    <tr style=\"text-align: right;\">\n",
              "      <th></th>\n",
              "      <th>comment</th>\n",
              "      <th>label</th>\n",
              "    </tr>\n",
              "  </thead>\n",
              "  <tbody>\n",
              "    <tr>\n",
              "      <th>0</th>\n",
              "      <td>? this film was just brilliant casting location scenery story direction everyone's really suited the part they played and you could just imagine being there...</td>\n",
              "      <td>1</td>\n",
              "    </tr>\n",
              "    <tr>\n",
              "      <th>1</th>\n",
              "      <td>? big hair big boobs bad music and a giant safety pin these are the words to best describe this terrible movie i love cheesy horror movies and i've seen hun...</td>\n",
              "      <td>0</td>\n",
              "    </tr>\n",
              "    <tr>\n",
              "      <th>2</th>\n",
              "      <td>? this has to be one of the worst films of the 1990s when my friends i were watching this film being the target audience it was aimed at we just sat watched...</td>\n",
              "      <td>0</td>\n",
              "    </tr>\n",
              "    <tr>\n",
              "      <th>3</th>\n",
              "      <td>? the ? ? at storytelling the traditional sort many years after the event i can still see in my ? eye an elderly lady my friend's mother retelling the battl...</td>\n",
              "      <td>1</td>\n",
              "    </tr>\n",
              "    <tr>\n",
              "      <th>4</th>\n",
              "      <td>? worst mistake of my life br br i picked this movie up at target for 5 because i figured hey it's sandler i can get some cheap laughs i was wrong completel...</td>\n",
              "      <td>0</td>\n",
              "    </tr>\n",
              "  </tbody>\n",
              "</table>\n",
              "</div>"
            ],
            "text/plain": [
              "                                                                                                                                                           comment  label\n",
              "0  ? this film was just brilliant casting location scenery story direction everyone's really suited the part they played and you could just imagine being there...      1\n",
              "1  ? big hair big boobs bad music and a giant safety pin these are the words to best describe this terrible movie i love cheesy horror movies and i've seen hun...      0\n",
              "2  ? this has to be one of the worst films of the 1990s when my friends i were watching this film being the target audience it was aimed at we just sat watched...      0\n",
              "3  ? the ? ? at storytelling the traditional sort many years after the event i can still see in my ? eye an elderly lady my friend's mother retelling the battl...      1\n",
              "4  ? worst mistake of my life br br i picked this movie up at target for 5 because i figured hey it's sandler i can get some cheap laughs i was wrong completel...      0"
            ]
          },
          "metadata": {
            "tags": []
          },
          "execution_count": 2
        }
      ]
    },
    {
      "cell_type": "markdown",
      "metadata": {
        "id": "_k75CE8NxKaY",
        "colab_type": "text"
      },
      "source": [
        "## Train and validate model"
      ]
    },
    {
      "cell_type": "code",
      "metadata": {
        "id": "HzDzcZ2GsJMP",
        "colab_type": "code",
        "colab": {
          "base_uri": "https://localhost:8080/",
          "height": 54
        },
        "outputId": "ac4ea229-03cd-4111-d93b-e2203f8d9dd5"
      },
      "source": [
        "clf = RidgeClassifier(tol=1e-2, solver=\"sag\", max_iter=1000) # classifier \n",
        "vec = TfidfVectorizer(ngram_range=(1,2), sublinear_tf=True, max_df = 0.5) # vectorizer\n",
        "model = Pipeline([('v', vec), ('c', clf)])\n",
        "print(\"Training classifier ... this may take over 30 seconds\")\n",
        "st = time() # start time\n",
        "model.fit(train.comment.values, train.label.values) # train model\n",
        "y_pred = model.predict(test.comment.values) # predict polarity for test examples\n",
        "acc = accuracy_score(y_pred, test.label.values) # accuracy\n",
        "t = time() - st # time taken for training and prediction\n",
        "print(f'Accuracy on validation examples = {acc:.3f}, Time = {t:.3f}')"
      ],
      "execution_count": 3,
      "outputs": [
        {
          "output_type": "stream",
          "text": [
            "Training classifier ... this may take over 30 seconds\n",
            "Accuracy on validation examples = 0.906, Time = 46.752\n"
          ],
          "name": "stdout"
        }
      ]
    },
    {
      "cell_type": "markdown",
      "metadata": {
        "id": "hZrFtRTiyBR3",
        "colab_type": "text"
      },
      "source": [
        "## Predict polarity of new comments"
      ]
    },
    {
      "cell_type": "code",
      "metadata": {
        "id": "1wfBYYEwyO8S",
        "colab_type": "code",
        "colab": {
          "base_uri": "https://localhost:8080/",
          "height": 90
        },
        "outputId": "b7989eb9-2534-4cc9-ea6a-395f967aa5a3"
      },
      "source": [
        "s = input(\"Type in a comment: \\n\").lower()\n",
        "polarity = model.predict([s])[0]\n",
        "confidence = model.decision_function([s])[0]\n",
        "print('Comment expresses ', ['Negative', 'Positive'][polarity], 'sentiment.')\n",
        "print(f'Strength of sentiment = {confidence:.3f}')\n"
      ],
      "execution_count": 5,
      "outputs": [
        {
          "output_type": "stream",
          "text": [
            "Type in a comment: \n",
            "this annoying session is a total waste of time\n",
            "Comment expresses  Negative sentiment.\n",
            "Strength of sentiment = -1.534\n"
          ],
          "name": "stdout"
        }
      ]
    }
  ]
}