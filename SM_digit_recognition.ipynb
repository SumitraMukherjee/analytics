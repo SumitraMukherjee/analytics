{
  "nbformat": 4,
  "nbformat_minor": 0,
  "metadata": {
    "colab": {
      "name": "SM_digit_recognition.ipynb",
      "provenance": [],
      "collapsed_sections": [
        "9OlNq9XPijMd",
        "twrKFK7kfWml",
        "C7SfHuLMxyv7",
        "UgL945kh3t4q",
        "vO-WJi2C5NhL",
        "LNFKo5u4wHly"
      ],
      "toc_visible": true,
      "include_colab_link": true
    },
    "kernelspec": {
      "name": "python3",
      "display_name": "Python 3"
    },
    "accelerator": "GPU"
  },
  "cells": [
    {
      "cell_type": "markdown",
      "metadata": {
        "id": "view-in-github",
        "colab_type": "text"
      },
      "source": [
        "<a href=\"https://colab.research.google.com/github/SumitraMukherjee/analytics/blob/master/SM_digit_recognition.ipynb\" target=\"_parent\"><img src=\"https://colab.research.google.com/assets/colab-badge.svg\" alt=\"Open In Colab\"/></a>"
      ]
    },
    {
      "cell_type": "markdown",
      "metadata": {
        "id": "DffAEyt3eBLS",
        "colab_type": "text"
      },
      "source": [
        "# Digit recognition\n",
        "\n",
        "- We shall first train a ***Convolution Neural Network*** to recognize digits using labeled images of hand-written digits. \n",
        "- Then check how well the trained model can recognize our own hand-writing.  \n",
        "- *Runtime* is set to *GPU* to speed up the training of the model."
      ]
    },
    {
      "cell_type": "markdown",
      "metadata": {
        "id": "9OlNq9XPijMd",
        "colab_type": "text"
      },
      "source": [
        "## Import libraries"
      ]
    },
    {
      "cell_type": "code",
      "metadata": {
        "id": "Ug068ieWj9PY",
        "colab_type": "code",
        "colab": {}
      },
      "source": [
        "from tensorflow.keras.datasets.mnist import load_data # to load data\n",
        "import numpy as np # for computations\n",
        "import time # to record training and testing time\n",
        "import matplotlib.pyplot as plt # for plotting\n",
        "\n",
        "# import metrics to evaluate models\n",
        "from sklearn.metrics import accuracy_score # accuracy\n",
        "\n",
        "# import TensorFlow and keras for neural networks\n",
        "from tensorflow.keras.models import Sequential\n",
        "from tensorflow.keras.utils import to_categorical\n",
        "from tensorflow.keras.layers import Dense\n",
        "from tensorflow.keras.layers import Conv2D\n",
        "from tensorflow.keras.layers import Flatten\n",
        "from tensorflow.keras.layers import MaxPooling2D\n",
        "from tensorflow.keras.layers import Dropout\n",
        "from tensorflow.keras.layers import BatchNormalization\n",
        "from tensorflow.keras.optimizers import SGD\n",
        "\n",
        "# for image processing\n",
        "from IPython.display import HTML, Image\n",
        "from google.colab.output import eval_js\n",
        "from base64 import b64decode\n",
        "import PIL"
      ],
      "execution_count": 1,
      "outputs": []
    },
    {
      "cell_type": "markdown",
      "metadata": {
        "id": "twrKFK7kfWml",
        "colab_type": "text"
      },
      "source": [
        "## Get data"
      ]
    },
    {
      "cell_type": "code",
      "metadata": {
        "id": "CxKiA4LI1WGr",
        "colab_type": "code",
        "colab": {
          "base_uri": "https://localhost:8080/",
          "height": 0
        },
        "outputId": "8c21f633-c925-4c8a-acd7-e1e568997e87"
      },
      "source": [
        "(x_train, y_train), (x_test, y_test) = load_data() # load data\n",
        "\n",
        "a_names = ['x_train', 'y_train', 'x_test', 'y_test'] # array names\n",
        "for name, a in zip(a_names, [x_train, y_train, x_test, y_test]):\n",
        "    print(f\"{name} : {a.__class__.__name__}, Shape: {a.shape}\")\n",
        "\n",
        "# display summary statistics for data\n",
        "H, W = x_train.shape[1:] # height and width of image\n",
        "nFeatures = H*W # number of input features\n",
        "nTrain, nTest = len(y_train), len(y_test) # number of examples\n",
        "classes = np.unique(y_train) # unique classes\n",
        "nClasses = len(classes) # number of classes\n",
        "print(\"\\nNumber of labeled examples for:\")\n",
        "print(f\"\\tTraining: {nTrain:,}\")\n",
        "print(f\"\\tTesting: {nTest:,}\" )\n",
        "print(f\"{nClasses} classes: {', '.join([str(d) for d in classes])}\")\n",
        "print(f\"Image: height = {H}, width = {W}\")\n",
        "print(f\"Number of input features = {H} x {W} = {H*W}\")\n",
        "\n",
        "print(\"\\nImages (based on mean pixel values):\") # show hand-written digits \n",
        "plt.figure(figsize=(20,10))\n",
        "for i in range(10):\n",
        "    avgImg = np.average(x_train[y_train==i],0)\n",
        "    plt.subplot(1, 10, i+1)\n",
        "    plt.imshow(avgImg.reshape((28,28))) \n",
        "    plt.axis('off')\n",
        "\n",
        "\n",
        "# reshape data for CNN\n",
        "x_train = x_train.reshape((nTrain, H, W, 1))\n",
        "x_test = x_test.reshape((nTest, H, W, 1))"
      ],
      "execution_count": 2,
      "outputs": [
        {
          "output_type": "stream",
          "text": [
            "x_train : ndarray, Shape: (60000, 28, 28)\n",
            "y_train : ndarray, Shape: (60000,)\n",
            "x_test : ndarray, Shape: (10000, 28, 28)\n",
            "y_test : ndarray, Shape: (10000,)\n",
            "\n",
            "Number of labeled examples for:\n",
            "\tTraining: 60,000\n",
            "\tTesting: 10,000\n",
            "10 classes: 0, 1, 2, 3, 4, 5, 6, 7, 8, 9\n",
            "Image: height = 28, width = 28\n",
            "Number of input features = 28 x 28 = 784\n",
            "\n",
            "Images (based on mean pixel values):\n"
          ],
          "name": "stdout"
        },
        {
          "output_type": "display_data",
          "data": {
            "image/png": "[encoded data removed]",
            "text/plain": [
              "<Figure size 1440x720 with 10 Axes>"
            ]
          },
          "metadata": {
            "tags": [],
            "needs_background": "light"
          }
        }
      ]
    },
    {
      "cell_type": "markdown",
      "metadata": {
        "id": "C7SfHuLMxyv7",
        "colab_type": "text"
      },
      "source": [
        "## Define Convolution Neural Network"
      ]
    },
    {
      "cell_type": "code",
      "metadata": {
        "id": "tSV-ybRxx4kS",
        "colab_type": "code",
        "colab": {}
      },
      "source": [
        "def cnn4(K1, K2, K3, K4, n, \n",
        "         kernel_size = (3,3), \n",
        "         pool_size = (2,2),\n",
        "         dropOutRate = 0.25, \n",
        "         nClasses = 10):\n",
        "    \"\"\"network with 4 convolution layers and a dense layer\n",
        "    K1, K2, K3, K4: number of filters in the 4 convoluttion layers\n",
        "    n: number of neurons in dense layer \n",
        "    \"\"\" \n",
        "    model = Sequential()\n",
        "\n",
        "    # Covolution layers\n",
        "    model.add(Conv2D(K1, kernel_size, activation='relu', \n",
        "                    input_shape=(H, W, 1)))\n",
        "    model.add(Conv2D(K2, kernel_size, activation='relu'))\n",
        "    model.add(BatchNormalization())\n",
        "    model.add(MaxPooling2D(pool_size))\n",
        "    model.add(Dropout(dropOutRate))\n",
        "\n",
        "    model.add(Conv2D(K3, kernel_size, activation='relu')) \n",
        "    model.add(Conv2D(K4, kernel_size, activation='relu'))\n",
        "    model.add(BatchNormalization())\n",
        "    model.add(MaxPooling2D(pool_size))\n",
        "    model.add(Dropout(dropOutRate))\n",
        "\n",
        "    # Dense layer\n",
        "    model.add(Flatten())\n",
        "    model.add(Dense(n, activation='relu'))\n",
        "    model.add(BatchNormalization())\n",
        "    model.add(Dropout(dropOutRate))\n",
        "\n",
        "    # Output layer\n",
        "    model.add(Dense(nClasses, activation='softmax'))\n",
        "    # compile model\n",
        "    opt = SGD(lr=0.01, momentum=0.9)\n",
        "    model.compile(optimizer=opt, loss='categorical_crossentropy', \n",
        "                metrics=['accuracy'])\n",
        "    modelName = 'CNN4.' + '.'.join([str(v) for v in [K1, K2, K3, K4, n]])\n",
        "    print(\"Model: \", modelName)\n",
        "        \n",
        "    return modelName, model"
      ],
      "execution_count": 3,
      "outputs": []
    },
    {
      "cell_type": "markdown",
      "metadata": {
        "id": "UgL945kh3t4q",
        "colab_type": "text"
      },
      "source": [
        "## Train and validate model"
      ]
    },
    {
      "cell_type": "code",
      "metadata": {
        "id": "O4ahKlMJ4TJ2",
        "colab_type": "code",
        "colab": {
          "base_uri": "https://localhost:8080/",
          "height": 985
        },
        "outputId": "d7245395-364e-4702-b48b-0b50c055f2a9"
      },
      "source": [
        "K1, K2, K3, K4, n = 16, 32, 64, 128, 512 # CNN parameters\n",
        "epochs = 15 # number of training epochs\n",
        "batch_size = 512 # batch_size for training \n",
        "\n",
        "modelName, model = cnn4(K1, K2, K3, K4, n) # create model\n",
        "# train\n",
        "st = time.time() # start time for training\n",
        "history = model.fit(x_train/255.0, \n",
        "                    to_categorical(y_train), \n",
        "                    epochs=epochs, \n",
        "                    batch_size=batch_size, \n",
        "                    validation_split=0.1,)\n",
        "tTrain = time.time() - st # time to train model\n",
        "print(\"\\nTime to train classifier: %4.2f seconds\\n\" %(tTrain))\n",
        "plt.plot(history.history['accuracy'])\n",
        "plt.plot(history.history['val_accuracy'])\n",
        "plt.title('model accuracy')\n",
        "plt.ylabel('accuracy')\n",
        "plt.xlabel('epoch')\n",
        "plt.legend(['train', 'validation'], loc='upper left')\n",
        "plt.show()\n",
        "# test\n",
        "st = time.time() # start time for prediction\n",
        "predicted = model.predict(x_test/255.0).argmax(axis=1)\n",
        "tTest = time.time() - st # time for prediction\n",
        "print(\"\\nTime to predict test cases: %4.2f seconds\\n\" %(tTest))\n",
        "acc = accuracy_score(y_test, predicted) # accuracy\n",
        "print(\"Accuracy on test data = %4.2f\" %(100.0*acc))\n"
      ],
      "execution_count": 4,
      "outputs": [
        {
          "output_type": "stream",
          "text": [
            "Model:  CNN4.16.32.64.128.512\n",
            "Epoch 1/15\n",
            "106/106 [==============================] - 6s 53ms/step - loss: 0.3454 - accuracy: 0.8932 - val_loss: 2.1264 - val_accuracy: 0.2473\n",
            "Epoch 2/15\n",
            "106/106 [==============================] - 5s 47ms/step - loss: 0.0931 - accuracy: 0.9707 - val_loss: 1.9234 - val_accuracy: 0.3815\n",
            "Epoch 3/15\n",
            "106/106 [==============================] - 5s 47ms/step - loss: 0.0677 - accuracy: 0.9789 - val_loss: 0.9837 - val_accuracy: 0.6417\n",
            "Epoch 4/15\n",
            "106/106 [==============================] - 5s 46ms/step - loss: 0.0586 - accuracy: 0.9815 - val_loss: 0.2375 - val_accuracy: 0.9388\n",
            "Epoch 5/15\n",
            "106/106 [==============================] - 5s 47ms/step - loss: 0.0493 - accuracy: 0.9845 - val_loss: 0.0603 - val_accuracy: 0.9832\n",
            "Epoch 6/15\n",
            "106/106 [==============================] - 5s 46ms/step - loss: 0.0430 - accuracy: 0.9866 - val_loss: 0.0320 - val_accuracy: 0.9910\n",
            "Epoch 7/15\n",
            "106/106 [==============================] - 5s 47ms/step - loss: 0.0404 - accuracy: 0.9870 - val_loss: 0.0276 - val_accuracy: 0.9923\n",
            "Epoch 8/15\n",
            "106/106 [==============================] - 5s 47ms/step - loss: 0.0366 - accuracy: 0.9887 - val_loss: 0.0277 - val_accuracy: 0.9918\n",
            "Epoch 9/15\n",
            "106/106 [==============================] - 5s 47ms/step - loss: 0.0345 - accuracy: 0.9893 - val_loss: 0.0305 - val_accuracy: 0.9908\n",
            "Epoch 10/15\n",
            "106/106 [==============================] - 5s 47ms/step - loss: 0.0322 - accuracy: 0.9896 - val_loss: 0.0267 - val_accuracy: 0.9925\n",
            "Epoch 11/15\n",
            "106/106 [==============================] - 5s 47ms/step - loss: 0.0289 - accuracy: 0.9906 - val_loss: 0.0243 - val_accuracy: 0.9932\n",
            "Epoch 12/15\n",
            "106/106 [==============================] - 5s 47ms/step - loss: 0.0280 - accuracy: 0.9914 - val_loss: 0.0252 - val_accuracy: 0.9928\n",
            "Epoch 13/15\n",
            "106/106 [==============================] - 5s 47ms/step - loss: 0.0262 - accuracy: 0.9918 - val_loss: 0.0255 - val_accuracy: 0.9925\n",
            "Epoch 14/15\n",
            "106/106 [==============================] - 5s 47ms/step - loss: 0.0246 - accuracy: 0.9924 - val_loss: 0.0244 - val_accuracy: 0.9928\n",
            "Epoch 15/15\n",
            "106/106 [==============================] - 5s 47ms/step - loss: 0.0230 - accuracy: 0.9930 - val_loss: 0.0238 - val_accuracy: 0.9932\n",
            "\n",
            "Time to train classifier: 83.45 seconds\n",
            "\n"
          ],
          "name": "stdout"
        },
        {
          "output_type": "display_data",
          "data": {
            "image/png": "[encoded data removed]",
            "text/plain": [
              "<Figure size 432x288 with 1 Axes>"
            ]
          },
          "metadata": {
            "tags": [],
            "needs_background": "light"
          }
        },
        {
          "output_type": "stream",
          "text": [
            "\n",
            "Time to predict test cases: 0.76 seconds\n",
            "\n",
            "Accuracy on test data = 99.38\n"
          ],
          "name": "stdout"
        }
      ]
    },
    {
      "cell_type": "markdown",
      "metadata": {
        "id": "vO-WJi2C5NhL",
        "colab_type": "text"
      },
      "source": [
        "## Functions to recognize new image"
      ]
    },
    {
      "cell_type": "code",
      "metadata": {
        "id": "kGTeRHdo5iSu",
        "colab_type": "code",
        "colab": {}
      },
      "source": [
        "#from: https://gist.github.com/korakot/8409b3feec20f159d8a50b0a811d3bca\n",
        "\n",
        "canvas_html = \"\"\"\n",
        "<canvas width=%d height=%d style=\"border:1px solid #000000;\"></canvas>\n",
        "<button>Predict digit</button>\n",
        "<script>\n",
        "var canvas = document.querySelector('canvas')\n",
        "var ctx = canvas.getContext('2d')\n",
        "ctx.lineWidth = %d\n",
        "var button = document.querySelector('button')\n",
        "var mouse = {x: 0, y: 0}\n",
        "canvas.addEventListener('mousemove', function(e) {\n",
        "  mouse.x = e.pageX - this.offsetLeft\n",
        "  mouse.y = e.pageY - this.offsetTop\n",
        "})\n",
        "canvas.onmousedown = ()=>{\n",
        "  ctx.beginPath()\n",
        "  ctx.moveTo(mouse.x, mouse.y)\n",
        "  canvas.addEventListener('mousemove', onPaint)\n",
        "}\n",
        "canvas.onmouseup = ()=>{\n",
        "  canvas.removeEventListener('mousemove', onPaint)\n",
        "}\n",
        "var onPaint = ()=>{\n",
        "  ctx.lineTo(mouse.x, mouse.y)\n",
        "  ctx.stroke()\n",
        "}\n",
        "var data = new Promise(resolve=>{\n",
        "  button.onclick = ()=>{\n",
        "    resolve(canvas.toDataURL('image/png'))\n",
        "  }\n",
        "})\n",
        "</script>\n",
        "\"\"\"\n",
        "def predictImage(infile, model):\n",
        "    img = PIL.Image.open(infile).resize((20,20))\n",
        "    img = np.array(img).mean(axis=2)\n",
        "    m = img.max()\n",
        "    img = img*255/m\n",
        "    a = np.zeros((28,28))\n",
        "    a[4:4+20,4:4+20] = img\n",
        "    x = np.array([a]).reshape((1,W,H,1))/255.0\n",
        "    #p = model.predict(x).argmax(axis=1)[0]\n",
        "    p = model.predict(x)\n",
        "    d = p.argmax(axis=1)[0]\n",
        "    plt.figure(figsize=(5,3))\n",
        "    plt.bar(range(10),p[0])\n",
        "    plt.title(\"Predicted digit: %d\" %d, fontsize=30)\n",
        "    plt.xlabel(\"digit\", fontsize=20)\n",
        "    plt.ylabel(\"probability\", fontsize=20)\n",
        "    plt.xticks(ticks=range(10), fontsize=16)\n",
        "    plt.show()\n",
        "    return \n",
        "\n",
        "def draw(filename='digit.png', w=200, h=200, line_width=10):\n",
        "    print(\"Draw a digit in the box below and click the 'Predict digit' button\")\n",
        "    display(HTML(canvas_html % (w, h, line_width)))\n",
        "    data = eval_js(\"data\")\n",
        "    binary = b64decode(data.split(',')[1])\n",
        "    with open(filename, 'wb') as f:\n",
        "        f.write(binary)\n",
        "    return predictImage(filename, model)"
      ],
      "execution_count": 5,
      "outputs": []
    },
    {
      "cell_type": "markdown",
      "metadata": {
        "id": "LNFKo5u4wHly",
        "colab_type": "text"
      },
      "source": [
        "## Test your handwriting"
      ]
    },
    {
      "cell_type": "code",
      "metadata": {
        "id": "KrH9sXSj8JMW",
        "colab_type": "code",
        "colab": {
          "base_uri": "https://localhost:8080/",
          "height": 494
        },
        "outputId": "6b475b33-a6c9-4c7e-fd0e-17bda43079ec"
      },
      "source": [
        "# Run this cell to predict your handwritten digits\n",
        "# predicts the most likely digit\n",
        "draw()"
      ],
      "execution_count": 7,
      "outputs": [
        {
          "output_type": "stream",
          "text": [
            "Draw a digit in the box below and click the 'Predict digit' button\n"
          ],
          "name": "stdout"
        },
        {
          "output_type": "display_data",
          "data": {
            "text/html": [
              "\n",
              "<canvas width=200 height=200 style=\"border:1px solid #000000;\"></canvas>\n",
              "<button>Predict digit</button>\n",
              "<script>\n",
              "var canvas = document.querySelector('canvas')\n",
              "var ctx = canvas.getContext('2d')\n",
              "ctx.lineWidth = 10\n",
              "var button = document.querySelector('button')\n",
              "var mouse = {x: 0, y: 0}\n",
              "canvas.addEventListener('mousemove', function(e) {\n",
              "  mouse.x = e.pageX - this.offsetLeft\n",
              "  mouse.y = e.pageY - this.offsetTop\n",
              "})\n",
              "canvas.onmousedown = ()=>{\n",
              "  ctx.beginPath()\n",
              "  ctx.moveTo(mouse.x, mouse.y)\n",
              "  canvas.addEventListener('mousemove', onPaint)\n",
              "}\n",
              "canvas.onmouseup = ()=>{\n",
              "  canvas.removeEventListener('mousemove', onPaint)\n",
              "}\n",
              "var onPaint = ()=>{\n",
              "  ctx.lineTo(mouse.x, mouse.y)\n",
              "  ctx.stroke()\n",
              "}\n",
              "var data = new Promise(resolve=>{\n",
              "  button.onclick = ()=>{\n",
              "    resolve(canvas.toDataURL('image/png'))\n",
              "  }\n",
              "})\n",
              "</script>\n"
            ],
            "text/plain": [
              "<IPython.core.display.HTML object>"
            ]
          },
          "metadata": {
            "tags": []
          }
        },
        {
          "output_type": "display_data",
          "data": {
            "image/png": "[encoded data removed]",
            "text/plain": [
              "<Figure size 360x216 with 1 Axes>"
            ]
          },
          "metadata": {
            "tags": [],
            "needs_background": "light"
          }
        }
      ]
    }
  ]
}